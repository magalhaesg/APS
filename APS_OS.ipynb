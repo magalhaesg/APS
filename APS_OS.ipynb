{
  "nbformat": 4,
  "nbformat_minor": 0,
  "metadata": {
    "colab": {
      "provenance": [],
      "collapsed_sections": []
    },
    "kernelspec": {
      "name": "python3",
      "display_name": "Python 3"
    },
    "language_info": {
      "name": "python"
    }
  },
  "cells": [
    {
      "cell_type": "code",
      "execution_count": 1,
      "metadata": {
        "colab": {
          "base_uri": "https://localhost:8080/"
        },
        "id": "K_MeNLDdH2bi",
        "outputId": "bbf64acd-f75c-40ca-9ec0-1cce1b96cbf5"
      },
      "outputs": [
        {
          "output_type": "stream",
          "name": "stdout",
          "text": [
            "Looking in indexes: https://pypi.org/simple, https://us-python.pkg.dev/colab-wheels/public/simple/\n",
            "Collecting yfinance\n",
            "  Downloading yfinance-0.1.84-py2.py3-none-any.whl (29 kB)\n",
            "Requirement already satisfied: lxml>=4.5.1 in /usr/local/lib/python3.7/dist-packages (from yfinance) (4.9.1)\n",
            "Requirement already satisfied: appdirs>=1.4.4 in /usr/local/lib/python3.7/dist-packages (from yfinance) (1.4.4)\n",
            "Requirement already satisfied: multitasking>=0.0.7 in /usr/local/lib/python3.7/dist-packages (from yfinance) (0.0.11)\n",
            "Requirement already satisfied: numpy>=1.15 in /usr/local/lib/python3.7/dist-packages (from yfinance) (1.21.6)\n",
            "Requirement already satisfied: pandas>=0.24.0 in /usr/local/lib/python3.7/dist-packages (from yfinance) (1.3.5)\n",
            "Collecting requests>=2.26\n",
            "  Downloading requests-2.28.1-py3-none-any.whl (62 kB)\n",
            "\u001b[K     |████████████████████████████████| 62 kB 10.8 MB/s \n",
            "\u001b[?25hRequirement already satisfied: python-dateutil>=2.7.3 in /usr/local/lib/python3.7/dist-packages (from pandas>=0.24.0->yfinance) (2.8.2)\n",
            "Requirement already satisfied: pytz>=2017.3 in /usr/local/lib/python3.7/dist-packages (from pandas>=0.24.0->yfinance) (2022.5)\n",
            "Requirement already satisfied: six>=1.5 in /usr/local/lib/python3.7/dist-packages (from python-dateutil>=2.7.3->pandas>=0.24.0->yfinance) (1.15.0)\n",
            "Requirement already satisfied: urllib3<1.27,>=1.21.1 in /usr/local/lib/python3.7/dist-packages (from requests>=2.26->yfinance) (1.24.3)\n",
            "Requirement already satisfied: certifi>=2017.4.17 in /usr/local/lib/python3.7/dist-packages (from requests>=2.26->yfinance) (2022.9.24)\n",
            "Requirement already satisfied: idna<4,>=2.5 in /usr/local/lib/python3.7/dist-packages (from requests>=2.26->yfinance) (2.10)\n",
            "Requirement already satisfied: charset-normalizer<3,>=2 in /usr/local/lib/python3.7/dist-packages (from requests>=2.26->yfinance) (2.1.1)\n",
            "Installing collected packages: requests, yfinance\n",
            "  Attempting uninstall: requests\n",
            "    Found existing installation: requests 2.23.0\n",
            "    Uninstalling requests-2.23.0:\n",
            "      Successfully uninstalled requests-2.23.0\n",
            "Successfully installed requests-2.28.1 yfinance-0.1.84\n"
          ]
        }
      ],
      "source": [
        "!pip install yfinance --upgrade --no-cache-dir"
      ]
    },
    {
      "cell_type": "code",
      "source": [
        "!pip install requests --upgrade --no-cache-dir"
      ],
      "metadata": {
        "colab": {
          "base_uri": "https://localhost:8080/"
        },
        "id": "tGthAL99H7sd",
        "outputId": "6c7bd669-68b2-49bd-cff1-54a5f93bbec7"
      },
      "execution_count": 2,
      "outputs": [
        {
          "output_type": "stream",
          "name": "stdout",
          "text": [
            "Looking in indexes: https://pypi.org/simple, https://us-python.pkg.dev/colab-wheels/public/simple/\n",
            "Requirement already satisfied: requests in /usr/local/lib/python3.7/dist-packages (2.28.1)\n",
            "Requirement already satisfied: idna<4,>=2.5 in /usr/local/lib/python3.7/dist-packages (from requests) (2.10)\n",
            "Requirement already satisfied: charset-normalizer<3,>=2 in /usr/local/lib/python3.7/dist-packages (from requests) (2.1.1)\n",
            "Requirement already satisfied: certifi>=2017.4.17 in /usr/local/lib/python3.7/dist-packages (from requests) (2022.9.24)\n",
            "Requirement already satisfied: urllib3<1.27,>=1.21.1 in /usr/local/lib/python3.7/dist-packages (from requests) (1.24.3)\n"
          ]
        }
      ]
    },
    {
      "cell_type": "code",
      "source": [
        "pip install --upgrade pandas"
      ],
      "metadata": {
        "colab": {
          "base_uri": "https://localhost:8080/"
        },
        "id": "iMCg_tctIA9S",
        "outputId": "21f638c1-a3d5-4f84-bdc2-866195908ebb"
      },
      "execution_count": 3,
      "outputs": [
        {
          "output_type": "stream",
          "name": "stdout",
          "text": [
            "Looking in indexes: https://pypi.org/simple, https://us-python.pkg.dev/colab-wheels/public/simple/\n",
            "Requirement already satisfied: pandas in /usr/local/lib/python3.7/dist-packages (1.3.5)\n",
            "Requirement already satisfied: python-dateutil>=2.7.3 in /usr/local/lib/python3.7/dist-packages (from pandas) (2.8.2)\n",
            "Requirement already satisfied: numpy>=1.17.3 in /usr/local/lib/python3.7/dist-packages (from pandas) (1.21.6)\n",
            "Requirement already satisfied: pytz>=2017.3 in /usr/local/lib/python3.7/dist-packages (from pandas) (2022.5)\n",
            "Requirement already satisfied: six>=1.5 in /usr/local/lib/python3.7/dist-packages (from python-dateutil>=2.7.3->pandas) (1.15.0)\n"
          ]
        }
      ]
    },
    {
      "cell_type": "code",
      "source": [
        "\n",
        "import pandas as pd\n",
        "import numpy as np\n",
        "import yfinance as yf\n",
        "import matplotlib.pyplot as plt\n",
        "from sklearn.metrics import mean_squared_error\n",
        "from statsmodels.tsa.arima_model import ARIMA\n",
        "import requests\n",
        "url = \"https://investnews.com.br/financas/veja-a-lista-completa-dos-bdrs-disponiveis-para-pessoas-fisicas-na-b3/\"\n",
        "r = requests.get(url)\n",
        "html = r.text\n",
        "df_nomes_tickers = pd.read_html(html, header=0)[0]\n",
        "df_nomes_tickers.head(10)"
      ],
      "metadata": {
        "colab": {
          "base_uri": "https://localhost:8080/",
          "height": 363
        },
        "id": "dtXbmNosIC-M",
        "outputId": "d4e4dcb1-7d0d-439a-cc30-109132f975e7"
      },
      "execution_count": 4,
      "outputs": [
        {
          "output_type": "execute_result",
          "data": {
            "text/plain": [
              "                  EMPRESA  CÓDIGO                           SETOR  \\\n",
              "0                      3M  MMMC34         Indústria diversificada   \n",
              "1                AB INBEV  ABUD34                         Bebidas   \n",
              "2                 ABB LTD  A1BB34                      Industrial   \n",
              "3                  ABBOTT  ABTT34                   Farmacêuticos   \n",
              "4                  ABBVIE  ABBV34  Medicamentos e Outros Produtos   \n",
              "5             ABIOMED INC  A1BM34                           Saúde   \n",
              "6              ACTIVISION  ATVI34                      Tecnologia   \n",
              "7               ADOBE INC  ADBE34                      Tecnologia   \n",
              "8  ADVANCE AUTO PARTS INC  A1AP34               Peças Automotivas   \n",
              "9            ADVANCED MIC  A1MD34                      Tecnologia   \n",
              "\n",
              "  PAÍS DE ORIGEM  \n",
              "0            EUA  \n",
              "1        Bélgica  \n",
              "2    Switzerland  \n",
              "3            EUA  \n",
              "4            EUA  \n",
              "5            EUA  \n",
              "6            EUA  \n",
              "7            EUA  \n",
              "8            EUA  \n",
              "9            EUA  "
            ],
            "text/html": [
              "\n",
              "  <div id=\"df-e529417d-bfe4-42c6-a3d8-0a2e7f2f146d\">\n",
              "    <div class=\"colab-df-container\">\n",
              "      <div>\n",
              "<style scoped>\n",
              "    .dataframe tbody tr th:only-of-type {\n",
              "        vertical-align: middle;\n",
              "    }\n",
              "\n",
              "    .dataframe tbody tr th {\n",
              "        vertical-align: top;\n",
              "    }\n",
              "\n",
              "    .dataframe thead th {\n",
              "        text-align: right;\n",
              "    }\n",
              "</style>\n",
              "<table border=\"1\" class=\"dataframe\">\n",
              "  <thead>\n",
              "    <tr style=\"text-align: right;\">\n",
              "      <th></th>\n",
              "      <th>EMPRESA</th>\n",
              "      <th>CÓDIGO</th>\n",
              "      <th>SETOR</th>\n",
              "      <th>PAÍS DE ORIGEM</th>\n",
              "    </tr>\n",
              "  </thead>\n",
              "  <tbody>\n",
              "    <tr>\n",
              "      <th>0</th>\n",
              "      <td>3M</td>\n",
              "      <td>MMMC34</td>\n",
              "      <td>Indústria diversificada</td>\n",
              "      <td>EUA</td>\n",
              "    </tr>\n",
              "    <tr>\n",
              "      <th>1</th>\n",
              "      <td>AB INBEV</td>\n",
              "      <td>ABUD34</td>\n",
              "      <td>Bebidas</td>\n",
              "      <td>Bélgica</td>\n",
              "    </tr>\n",
              "    <tr>\n",
              "      <th>2</th>\n",
              "      <td>ABB LTD</td>\n",
              "      <td>A1BB34</td>\n",
              "      <td>Industrial</td>\n",
              "      <td>Switzerland</td>\n",
              "    </tr>\n",
              "    <tr>\n",
              "      <th>3</th>\n",
              "      <td>ABBOTT</td>\n",
              "      <td>ABTT34</td>\n",
              "      <td>Farmacêuticos</td>\n",
              "      <td>EUA</td>\n",
              "    </tr>\n",
              "    <tr>\n",
              "      <th>4</th>\n",
              "      <td>ABBVIE</td>\n",
              "      <td>ABBV34</td>\n",
              "      <td>Medicamentos e Outros Produtos</td>\n",
              "      <td>EUA</td>\n",
              "    </tr>\n",
              "    <tr>\n",
              "      <th>5</th>\n",
              "      <td>ABIOMED INC</td>\n",
              "      <td>A1BM34</td>\n",
              "      <td>Saúde</td>\n",
              "      <td>EUA</td>\n",
              "    </tr>\n",
              "    <tr>\n",
              "      <th>6</th>\n",
              "      <td>ACTIVISION</td>\n",
              "      <td>ATVI34</td>\n",
              "      <td>Tecnologia</td>\n",
              "      <td>EUA</td>\n",
              "    </tr>\n",
              "    <tr>\n",
              "      <th>7</th>\n",
              "      <td>ADOBE INC</td>\n",
              "      <td>ADBE34</td>\n",
              "      <td>Tecnologia</td>\n",
              "      <td>EUA</td>\n",
              "    </tr>\n",
              "    <tr>\n",
              "      <th>8</th>\n",
              "      <td>ADVANCE AUTO PARTS INC</td>\n",
              "      <td>A1AP34</td>\n",
              "      <td>Peças Automotivas</td>\n",
              "      <td>EUA</td>\n",
              "    </tr>\n",
              "    <tr>\n",
              "      <th>9</th>\n",
              "      <td>ADVANCED MIC</td>\n",
              "      <td>A1MD34</td>\n",
              "      <td>Tecnologia</td>\n",
              "      <td>EUA</td>\n",
              "    </tr>\n",
              "  </tbody>\n",
              "</table>\n",
              "</div>\n",
              "      <button class=\"colab-df-convert\" onclick=\"convertToInteractive('df-e529417d-bfe4-42c6-a3d8-0a2e7f2f146d')\"\n",
              "              title=\"Convert this dataframe to an interactive table.\"\n",
              "              style=\"display:none;\">\n",
              "        \n",
              "  <svg xmlns=\"http://www.w3.org/2000/svg\" height=\"24px\"viewBox=\"0 0 24 24\"\n",
              "       width=\"24px\">\n",
              "    <path d=\"M0 0h24v24H0V0z\" fill=\"none\"/>\n",
              "    <path d=\"M18.56 5.44l.94 2.06.94-2.06 2.06-.94-2.06-.94-.94-2.06-.94 2.06-2.06.94zm-11 1L8.5 8.5l.94-2.06 2.06-.94-2.06-.94L8.5 2.5l-.94 2.06-2.06.94zm10 10l.94 2.06.94-2.06 2.06-.94-2.06-.94-.94-2.06-.94 2.06-2.06.94z\"/><path d=\"M17.41 7.96l-1.37-1.37c-.4-.4-.92-.59-1.43-.59-.52 0-1.04.2-1.43.59L10.3 9.45l-7.72 7.72c-.78.78-.78 2.05 0 2.83L4 21.41c.39.39.9.59 1.41.59.51 0 1.02-.2 1.41-.59l7.78-7.78 2.81-2.81c.8-.78.8-2.07 0-2.86zM5.41 20L4 18.59l7.72-7.72 1.47 1.35L5.41 20z\"/>\n",
              "  </svg>\n",
              "      </button>\n",
              "      \n",
              "  <style>\n",
              "    .colab-df-container {\n",
              "      display:flex;\n",
              "      flex-wrap:wrap;\n",
              "      gap: 12px;\n",
              "    }\n",
              "\n",
              "    .colab-df-convert {\n",
              "      background-color: #E8F0FE;\n",
              "      border: none;\n",
              "      border-radius: 50%;\n",
              "      cursor: pointer;\n",
              "      display: none;\n",
              "      fill: #1967D2;\n",
              "      height: 32px;\n",
              "      padding: 0 0 0 0;\n",
              "      width: 32px;\n",
              "    }\n",
              "\n",
              "    .colab-df-convert:hover {\n",
              "      background-color: #E2EBFA;\n",
              "      box-shadow: 0px 1px 2px rgba(60, 64, 67, 0.3), 0px 1px 3px 1px rgba(60, 64, 67, 0.15);\n",
              "      fill: #174EA6;\n",
              "    }\n",
              "\n",
              "    [theme=dark] .colab-df-convert {\n",
              "      background-color: #3B4455;\n",
              "      fill: #D2E3FC;\n",
              "    }\n",
              "\n",
              "    [theme=dark] .colab-df-convert:hover {\n",
              "      background-color: #434B5C;\n",
              "      box-shadow: 0px 1px 3px 1px rgba(0, 0, 0, 0.15);\n",
              "      filter: drop-shadow(0px 1px 2px rgba(0, 0, 0, 0.3));\n",
              "      fill: #FFFFFF;\n",
              "    }\n",
              "  </style>\n",
              "\n",
              "      <script>\n",
              "        const buttonEl =\n",
              "          document.querySelector('#df-e529417d-bfe4-42c6-a3d8-0a2e7f2f146d button.colab-df-convert');\n",
              "        buttonEl.style.display =\n",
              "          google.colab.kernel.accessAllowed ? 'block' : 'none';\n",
              "\n",
              "        async function convertToInteractive(key) {\n",
              "          const element = document.querySelector('#df-e529417d-bfe4-42c6-a3d8-0a2e7f2f146d');\n",
              "          const dataTable =\n",
              "            await google.colab.kernel.invokeFunction('convertToInteractive',\n",
              "                                                     [key], {});\n",
              "          if (!dataTable) return;\n",
              "\n",
              "          const docLinkHtml = 'Like what you see? Visit the ' +\n",
              "            '<a target=\"_blank\" href=https://colab.research.google.com/notebooks/data_table.ipynb>data table notebook</a>'\n",
              "            + ' to learn more about interactive tables.';\n",
              "          element.innerHTML = '';\n",
              "          dataTable['output_type'] = 'display_data';\n",
              "          await google.colab.output.renderOutput(dataTable, element);\n",
              "          const docLink = document.createElement('div');\n",
              "          docLink.innerHTML = docLinkHtml;\n",
              "          element.appendChild(docLink);\n",
              "        }\n",
              "      </script>\n",
              "    </div>\n",
              "  </div>\n",
              "  "
            ]
          },
          "metadata": {},
          "execution_count": 4
        }
      ]
    },
    {
      "cell_type": "code",
      "source": [
        "import pandas as pd\n",
        "import matplotlib.pylab as plt\n",
        "import yfinance as yf\n",
        "import warnings\n",
        "import matplotlib\n",
        "import statsmodels.api as sm"
      ],
      "metadata": {
        "id": "AFlXkybMIOTl"
      },
      "execution_count": 5,
      "outputs": []
    },
    {
      "cell_type": "code",
      "source": [
        "warnings.filterwarnings(\"ignore\")\n",
        "plt.style.use('fivethirtyeight')\n",
        "matplotlib.rcParams['axes.labelsize'] = 14\n",
        "matplotlib.rcParams['xtick.labelsize'] = 12\n",
        "matplotlib.rcParams['ytick.labelsize'] = 12\n",
        "matplotlib.rcParams['text.color'] = 'G'"
      ],
      "metadata": {
        "id": "7xTQPKIzIVxu"
      },
      "execution_count": 6,
      "outputs": []
    },
    {
      "cell_type": "code",
      "source": [
        "import pandas as pd\n",
        "import numpy as np\n",
        "from statsmodels.tsa.seasonal import seasonal_decompose\n",
        "import matplotlib.pyplot as plt\n",
        "import seaborn as sns"
      ],
      "metadata": {
        "id": "_ktLEMIVIYDT"
      },
      "execution_count": 7,
      "outputs": []
    },
    {
      "cell_type": "code",
      "source": [
        "dados_series_a = yf.download(\"PETR4.SA\", start=\"2022-05-01\", end=\"2022-11-01\")\n",
        "dados_series_b = yf.download(\"VALE3.SA\", start=\"2022-05-01\", end=\"2022-11-01\")\n",
        "dados_series_c = yf.download(\"JBSS3.SA\", start=\"2022-05-01\", end=\"2022-11-01\")\n",
        "dados_series_d = yf.download(\"SANB11.SA\", start=\"2022-05-01\", end=\"2022-11-01\")\n",
        "dados_series_e = yf.download(\"ITUB4.SA\", start=\"2022-05-01\", end=\"2022-11-01\")"
      ],
      "metadata": {
        "colab": {
          "base_uri": "https://localhost:8080/"
        },
        "id": "5fD8UMioIZ4I",
        "outputId": "a2fa56c2-7d5f-48e3-fecc-32f73f5f72cb"
      },
      "execution_count": 28,
      "outputs": [
        {
          "output_type": "stream",
          "name": "stdout",
          "text": [
            "[*********************100%***********************]  1 of 1 completed\n",
            "[*********************100%***********************]  1 of 1 completed\n",
            "[*********************100%***********************]  1 of 1 completed\n",
            "[*********************100%***********************]  1 of 1 completed\n",
            "[*********************100%***********************]  1 of 1 completed\n"
          ]
        }
      ]
    },
    {
      "cell_type": "code",
      "source": [
        "with pd.option_context('display.max_rows',10):\n",
        "  print(dados_series_a)\n",
        "with pd.option_context('display.max_rows',10):\n",
        "  print(dados_series_b)\n",
        "with pd.option_context('display.max_rows',10):\n",
        "  print(dados_series_c)\n",
        "with pd.option_context('display.max_rows',10):\n",
        "  print(dados_series_d)\n",
        "with pd.option_context('display.max_rows',10):\n",
        "  print(dados_series_e)"
      ],
      "metadata": {
        "colab": {
          "base_uri": "https://localhost:8080/"
        },
        "id": "TWfEPp71I0Vn",
        "outputId": "c27a213d-aeee-4482-9a13-28cf5e5bba20"
      },
      "execution_count": 29,
      "outputs": [
        {
          "output_type": "stream",
          "name": "stdout",
          "text": [
            "                 Open       High        Low      Close  Adj Close     Volume\n",
            "Date                                                                        \n",
            "2022-05-02  30.170000  30.330000  29.330000  29.980000  21.906765   72456200\n",
            "2022-05-03  30.120001  30.389999  29.820000  30.250000  22.104059   52531000\n",
            "2022-05-04  30.600000  32.169998  30.400000  32.070000  23.433954  109417000\n",
            "2022-05-05  31.809999  32.500000  31.020000  32.009998  23.390112   99439900\n",
            "2022-05-06  32.689999  33.119999  31.900000  33.060001  24.157360  129570200\n",
            "...               ...        ...        ...        ...        ...        ...\n",
            "2022-10-25  34.040001  34.500000  33.209999  33.529999  33.529999  113161200\n",
            "2022-10-26  32.599998  33.529999  31.900000  32.709999  32.709999  121334800\n",
            "2022-10-27  32.810001  33.540001  32.669998  32.959999  32.959999  111008800\n",
            "2022-10-28  32.700001  33.119999  31.860001  32.570000  32.570000  129745400\n",
            "2022-10-31  30.610001  31.600000  29.160000  29.809999  29.809999  262409400\n",
            "\n",
            "[128 rows x 6 columns]\n",
            "                 Open       High        Low      Close  Adj Close    Volume\n",
            "Date                                                                       \n",
            "2022-05-02  83.160004  83.199997  80.639999  82.919998  78.833992  31473600\n",
            "2022-05-03  82.949997  84.209999  82.190002  82.500000  78.434685  27364600\n",
            "2022-05-04  81.930000  82.180000  79.849998  81.809998  77.778687  34032200\n",
            "2022-05-05  81.550003  83.199997  79.080002  80.330002  76.371620  30906600\n",
            "2022-05-06  79.199997  80.900002  78.250000  79.760002  75.829704  25204100\n",
            "...               ...        ...        ...        ...        ...       ...\n",
            "2022-10-25  71.610001  73.269997  70.919998  71.930000  71.930000  28158100\n",
            "2022-10-26  71.279999  74.849998  71.120003  73.529999  73.529999  40845700\n",
            "2022-10-27  72.000000  72.120003  69.430000  70.910004  70.910004  52613000\n",
            "2022-10-28  68.589996  69.050003  66.650002  67.449997  67.449997  52793500\n",
            "2022-10-31  66.000000  69.400002  65.519997  67.129997  67.129997  39184100\n",
            "\n",
            "[128 rows x 6 columns]\n",
            "                 Open       High        Low      Close  Adj Close    Volume\n",
            "Date                                                                       \n",
            "2022-05-02  38.180000  38.549999  37.080002  37.689999  36.669971   6638600\n",
            "2022-05-03  37.779999  37.830002  36.680000  37.200001  36.193233   9368200\n",
            "2022-05-04  37.040001  37.040001  35.270000  36.070000  35.093815  12300100\n",
            "2022-05-05  35.610001  35.860001  34.270000  35.259998  34.305737  12083200\n",
            "2022-05-06  35.200001  35.700001  35.060001  35.430000  34.471138   6329300\n",
            "...               ...        ...        ...        ...        ...       ...\n",
            "2022-10-25  26.190001  26.430000  25.510000  25.900000  25.900000   8034900\n",
            "2022-10-26  25.690001  25.690001  24.740000  24.790001  24.790001  10249900\n",
            "2022-10-27  24.879999  25.330000  24.480000  24.930000  24.930000   5251300\n",
            "2022-10-28  24.799999  26.030001  24.680000  25.790001  25.790001   7182600\n",
            "2022-10-31  25.790001  25.950001  24.660000  24.959999  24.959999   9900400\n",
            "\n",
            "[128 rows x 6 columns]\n",
            "                 Open       High        Low      Close  Adj Close    Volume\n",
            "Date                                                                       \n",
            "2022-05-02  31.340000  31.900000  31.180000  31.549999  30.631123   4178400\n",
            "2022-05-03  31.549999  32.029999  31.520000  31.799999  30.873842   2163100\n",
            "2022-05-04  31.709999  32.610001  31.629999  32.610001  31.660254   3025100\n",
            "2022-05-05  32.250000  32.430000  31.510000  31.980000  31.048599   2462200\n",
            "2022-05-06  32.040001  33.189999  31.990000  32.970001  32.009769   2343800\n",
            "...               ...        ...        ...        ...        ...       ...\n",
            "2022-10-25  30.190001  30.450001  29.889999  30.049999  30.049999   2120800\n",
            "2022-10-26  28.299999  28.780001  27.420000  28.469999  28.469999  12203200\n",
            "2022-10-27  28.450001  29.410000  28.430000  28.980000  28.980000   3985700\n",
            "2022-10-28  28.400000  29.000000  28.000000  29.000000  29.000000   3261800\n",
            "2022-10-31  28.940001  30.059999  28.570000  29.780001  29.780001   3284400\n",
            "\n",
            "[128 rows x 6 columns]\n",
            "                 Open       High        Low      Close  Adj Close      Volume\n",
            "Date                                                                         \n",
            "2022-05-02  23.870001  24.080000  23.440001  23.750000  23.387085  39307400.0\n",
            "2022-05-03  23.799999  24.160000  23.680000  23.870001  23.505255  26213300.0\n",
            "2022-05-04  23.760000  23.840000  23.400000  23.840000  23.475712  47436400.0\n",
            "2022-05-05  23.590000  23.590000  22.900000  23.290001  22.934116  40419500.0\n",
            "2022-05-06  23.280001  24.219999  23.270000  23.790001  23.426477  60450700.0\n",
            "...               ...        ...        ...        ...        ...         ...\n",
            "2022-10-25  29.650000  29.770000  29.410000  29.410000  29.392923  26049300.0\n",
            "2022-10-26  29.000000  29.330000  28.680000  28.780001  28.763290  48619400.0\n",
            "2022-10-27  29.110001  29.629999  28.910000  29.309999  29.292982  39594200.0\n",
            "2022-10-28  29.209999  29.650000  29.100000  29.540001  29.522850  28616800.0\n",
            "2022-10-31  29.000000  30.570000  28.950001  30.400000  30.382349  83759400.0\n",
            "\n",
            "[128 rows x 6 columns]\n"
          ]
        }
      ]
    },
    {
      "cell_type": "code",
      "source": [
        "import seaborn as sns\n",
        "sns.set_theme(style=\"darkgrid\")\n",
        "sns.distplot(dados_series_a['Close'].dropna())"
      ],
      "metadata": {
        "colab": {
          "base_uri": "https://localhost:8080/",
          "height": 318
        },
        "id": "L0uwb8L4JFTY",
        "outputId": "1372385a-9c19-4c2c-d3f9-fa8ba7a07c7c"
      },
      "execution_count": 36,
      "outputs": [
        {
          "output_type": "execute_result",
          "data": {
            "text/plain": [
              "<matplotlib.axes._subplots.AxesSubplot at 0x7f26006d6d90>"
            ]
          },
          "metadata": {},
          "execution_count": 36
        },
        {
          "output_type": "display_data",
          "data": {
            "text/plain": [
              "<Figure size 432x288 with 1 Axes>"
            ],
            "image/png": "[encoded data removed]"
          },
          "metadata": {}
        }
      ]
    },
    {
      "cell_type": "code",
      "source": [
        "import seaborn as sns\n",
        "sns.set_theme(style=\"darkgrid\")\n",
        "sns.distplot(dados_series_b['Close'].dropna())"
      ],
      "metadata": {
        "colab": {
          "base_uri": "https://localhost:8080/",
          "height": 318
        },
        "id": "0bxFfzGlKQTH",
        "outputId": "ff040bbe-c641-4464-cd8f-074192640542"
      },
      "execution_count": 40,
      "outputs": [
        {
          "output_type": "execute_result",
          "data": {
            "text/plain": [
              "<matplotlib.axes._subplots.AxesSubplot at 0x7f26004e9110>"
            ]
          },
          "metadata": {},
          "execution_count": 40
        },
        {
          "output_type": "display_data",
          "data": {
            "text/plain": [
              "<Figure size 432x288 with 1 Axes>"
            ],
            "image/png": "[encoded data removed]"
          },
          "metadata": {}
        }
      ]
    },
    {
      "cell_type": "code",
      "source": [
        "import seaborn as sns\n",
        "sns.set_theme(style=\"darkgrid\")\n",
        "sns.distplot(dados_series_c['Close'].dropna())"
      ],
      "metadata": {
        "colab": {
          "base_uri": "https://localhost:8080/",
          "height": 318
        },
        "id": "j6WW77B3KgXD",
        "outputId": "0e25704f-7e10-4148-c7af-77d06fc84782"
      },
      "execution_count": 39,
      "outputs": [
        {
          "output_type": "execute_result",
          "data": {
            "text/plain": [
              "<matplotlib.axes._subplots.AxesSubplot at 0x7f260056af50>"
            ]
          },
          "metadata": {},
          "execution_count": 39
        },
        {
          "output_type": "display_data",
          "data": {
            "text/plain": [
              "<Figure size 432x288 with 1 Axes>"
            ],
            "image/png": "[encoded data removed]"
          },
          "metadata": {}
        }
      ]
    },
    {
      "cell_type": "code",
      "source": [
        "import seaborn as sns\n",
        "sns.set_theme(style=\"darkgrid\")\n",
        "sns.distplot(dados_series_d['Close'].dropna())"
      ],
      "metadata": {
        "colab": {
          "base_uri": "https://localhost:8080/",
          "height": 318
        },
        "id": "yOLLlt3xKjVX",
        "outputId": "d6469eab-aa7f-47b7-f42f-3fc814500df8"
      },
      "execution_count": 38,
      "outputs": [
        {
          "output_type": "execute_result",
          "data": {
            "text/plain": [
              "<matplotlib.axes._subplots.AxesSubplot at 0x7f26005e7b90>"
            ]
          },
          "metadata": {},
          "execution_count": 38
        },
        {
          "output_type": "display_data",
          "data": {
            "text/plain": [
              "<Figure size 432x288 with 1 Axes>"
            ],
            "image/png": "[encoded data removed]"
          },
          "metadata": {}
        }
      ]
    },
    {
      "cell_type": "code",
      "source": [
        "import seaborn as sns\n",
        "sns.set_theme(style=\"darkgrid\")\n",
        "sns.distplot(dados_series_e['Close'].dropna())"
      ],
      "metadata": {
        "colab": {
          "base_uri": "https://localhost:8080/",
          "height": 318
        },
        "id": "0aPpmumtKl6y",
        "outputId": "5d89b842-cf97-4643-a7cd-b4d0564e86ec"
      },
      "execution_count": 37,
      "outputs": [
        {
          "output_type": "execute_result",
          "data": {
            "text/plain": [
              "<matplotlib.axes._subplots.AxesSubplot at 0x7f260066cad0>"
            ]
          },
          "metadata": {},
          "execution_count": 37
        },
        {
          "output_type": "display_data",
          "data": {
            "text/plain": [
              "<Figure size 432x288 with 1 Axes>"
            ],
            "image/png": "[encoded data removed]"
          },
          "metadata": {}
        }
      ]
    }
  ]
}